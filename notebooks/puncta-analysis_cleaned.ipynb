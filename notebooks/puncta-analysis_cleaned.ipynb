{
 "cells": [
  {
   "cell_type": "code",
   "execution_count": null,
   "metadata": {},
   "outputs": [],
   "source": [
    "import imagej\n",
    "import scyjava as sj\n",
    "\n",
    "ij = imagej.init('sc.fiji:fiji', mode='interactive', add_legacy=True)"
   ]
  },
  {
   "cell_type": "code",
   "execution_count": null,
   "metadata": {},
   "outputs": [],
   "source": [
    "print(f\"ImageJ version: {ij.getVersion()}\")"
   ]
  },
  {
   "cell_type": "code",
   "execution_count": null,
   "metadata": {},
   "outputs": [],
   "source": [
    "script = \"\"\"\n",
    "importClass(Packages.ij.IJ)\n",
    "importClass(Packages.ij.Prefs)\n",
    "importClass(Packages.ij.plugin.ChannelSplitter)\n",
    "\n",
    "#@ String file_path\n",
    "#@ String count_threshold1_output\n",
    "#@ String sv2_output\n",
    "#@ String sv2_threshold1_output\n",
    "#@ Number threshold1\n",
    "\n",
    "imp = IJ.openImage(file_path);\n",
    "IJ.run(imp, \"Delete Slice\", \"delete=channel\");//close channel 3\n",
    "IJ.run(imp, \"Delete Slice\", \"delete=channel\");//close channel 2\n",
    "IJ.run(imp, \"Delete Slice\", \"delete=channel\");//close channel 1\n",
    "IJ.run(imp, \"Red\", \"\");\n",
    "\n",
    "IJ.run(imp, \"Find Maxima...\", \"prominence=\" + threshold1 + \" output=Count\");\n",
    "IJ.saveAs(\"Results\", count_threshold1_output);\n",
    "IJ.run(imp, \"Close\", \"\");\n",
    "IJ.run(imp, \"Find Maxima...\", \"prominence=\" + threshold1 + \" output=[Point Selection]\");\n",
    "IJ.saveAs(imp, \"Tiff\", sv2_output);\n",
    "imp = imp.flatten();\n",
    "IJ.saveAs(imp, \"Tiff\", sv2_threshold1_output);\n",
    "IJ.run(imp, \"Close\", \"\");\n",
    "IJ.run(\"Put Behind [tab]\", \"\")\n",
    "IJ.run(imp, \"Select None\", \"\");\n",
    "\"\"\""
   ]
  },
  {
   "cell_type": "code",
   "execution_count": null,
   "metadata": {},
   "outputs": [],
   "source": [
    "import os\n",
    "import time\n",
    "from datetime import datetime\n",
    "import warnings\n",
    "\n",
    "# Settings the warnings to be ignored \n",
    "warnings.filterwarnings('ignore') \n",
    "\n",
    "data_path = \"Synaptic pruning SV2_REPL3/\"\n",
    "\n",
    "output_base_path = \"puncta_output3/\"\n",
    "\n",
    "threshold1 = 180\n",
    "\n",
    "def analyse_puncta(data_path, data, output, threshold1):\n",
    "\n",
    "    # record pipeline execution time\n",
    "    start_time = time.time()\n",
    "\n",
    "    print(f\"Started processing {data}\")\n",
    "\n",
    "    # Reconstruct full file path\n",
    "    file_path = f\"{data_path}{data}\"\n",
    "\n",
    "    # Extract the image name before .tif\n",
    "    base_name = data.split(\".tif\")[0]\n",
    "    # Generate the desired output paths\n",
    "    count_threshold1_output = f\"{output}{base_name}_count_{threshold1}.csv\"\n",
    "    sv2_output = f\"{output}{base_name}_sv2.tif\"\n",
    "    sv2_threshold1_output = f\"{output}{base_name}_sv2_{threshold1}.tif\"\n",
    "\n",
    "    args = {\n",
    "        'file_path':file_path,\n",
    "        'count_threshold1_output':count_threshold1_output,\n",
    "        'sv2_output':sv2_output,\n",
    "        'sv2_threshold1_output':sv2_threshold1_output,\n",
    "        'threshold1':threshold1,\n",
    "    }\n",
    "\n",
    "    ij.py.run_script(\"javascript\", script, args)\n",
    "\n",
    "    ij.WindowManager.closeAllWindows()\n",
    "\n",
    "    # Display data processing pipeline metrics\n",
    "\n",
    "    end_time = time.time()\n",
    "    duration = end_time - start_time\n",
    "    print(f\"Finished processing {data} at: {datetime.now().strftime('%Y-%m-%d %H:%M:%S')}\")\n",
    "    print(f\"Execution time: {duration:.2f} seconds\")"
   ]
  },
  {
   "cell_type": "code",
   "execution_count": null,
   "metadata": {},
   "outputs": [],
   "source": [
    "for file in os.listdir(data_path):\n",
    "\n",
    "    analyse_puncta(data_path, file, output_base_path, threshold1)"
   ]
  },
  {
   "cell_type": "code",
   "execution_count": null,
   "metadata": {},
   "outputs": [],
   "source": [
    "modulenames = ['imagej','scyjava']\n",
    "for module in modulenames:\n",
    "    try:\n",
    "        version = eval(module).__version__\n",
    "        print(f\"{module}=={version}\")\n",
    "    except:\n",
    "        print(f\"{module}\")"
   ]
  }
 ],
 "metadata": {
  "kernelspec": {
   "display_name": "pyimagej",
   "language": "python",
   "name": "python3"
  },
  "language_info": {
   "codemirror_mode": {
    "name": "ipython",
    "version": 3
   },
   "file_extension": ".py",
   "mimetype": "text/x-python",
   "name": "python",
   "nbconvert_exporter": "python",
   "pygments_lexer": "ipython3",
   "version": "3.8.18"
  }
 },
 "nbformat": 4,
 "nbformat_minor": 2
}
