{
 "cells": [
  {
   "cell_type": "code",
   "execution_count": null,
   "metadata": {},
   "outputs": [],
   "source": [
    "import pandas as pd\n",
    "import os\n",
    "import re"
   ]
  },
  {
   "cell_type": "code",
   "execution_count": null,
   "metadata": {},
   "outputs": [],
   "source": [
    "output_path = \"puncta_output3/\"\n",
    "\n",
    "threshold1 = 180\n",
    "\n",
    "base_file_names = [file.split(\".tif\")[0] for file in os.listdir(\"Synaptic pruning SV2_REPL3/\")]\n",
    "base_file_names"
   ]
  },
  {
   "cell_type": "code",
   "execution_count": null,
   "metadata": {},
   "outputs": [],
   "source": [
    "# Initialize an empty DataFrame to store the final results\n",
    "final_df = pd.DataFrame(columns=[f\"threshold_{threshold1}\"])\n",
    "\n",
    "# 'base_file_names' is a list of unique base names derived from your files\n",
    "for base_name in base_file_names:\n",
    "    # Read the corresponding files for each base_name\n",
    "    threshold1_df = pd.read_csv(f\"{output_path}{base_name}_count_{threshold1}.csv\")\n",
    "\n",
    "    # Append the extracted information to the DataFrame\n",
    "    final_df.loc[base_name] = [threshold1_df.loc[0,\"Count\"]]\n",
    "\n",
    "# final_df now contains all the aggregated data\n",
    "    \n",
    "# Define a function to classify Genotype based on index value\n",
    "def classify_genotype(index):\n",
    "    if re.search(r'isoG29', index):\n",
    "        return 'isoG29'\n",
    "    elif re.search(r'G29', index):\n",
    "        return 'G29'\n",
    "    elif re.search(r'isoB', index):\n",
    "        return 'isoB'\n",
    "    elif re.search(r'K2', index):\n",
    "        return 'K2'\n",
    "    elif re.search(r'C9', index):\n",
    "        return 'C9'\n",
    "    elif re.search(r'B', index):\n",
    "        return 'B'\n",
    "    else:\n",
    "        return 'Unknown'\n",
    "\n",
    "# Apply the function to the index of the DataFrame to create a new \"Genotype\" column\n",
    "final_df['Genotype'] = final_df.index.map(classify_genotype)\n",
    "\n",
    "final_df"
   ]
  },
  {
   "cell_type": "code",
   "execution_count": null,
   "metadata": {},
   "outputs": [],
   "source": [
    "final_df.to_csv(\"puncta_analysis_results_rep3.csv\")"
   ]
  },
  {
   "cell_type": "code",
   "execution_count": null,
   "metadata": {},
   "outputs": [],
   "source": [
    "import seaborn as sns\n",
    "import matplotlib.pyplot as plt\n",
    "\n",
    "columns_to_plot = [f\"threshold_{threshold1}\"]\n",
    "\n",
    "# Plotting\n",
    "plt.figure(figsize=(12, len(columns_to_plot) * 6))\n",
    "for i, column in enumerate(columns_to_plot, 1):\n",
    "    plt.subplot(len(columns_to_plot), 1, i)\n",
    "    sns.violinplot(x='Genotype', y=column, data=final_df)\n",
    "    plt.title(f'Violin plot of {column} by Genotype')\n",
    "\n",
    "plt.tight_layout()\n",
    "plt.show()"
   ]
  },
  {
   "cell_type": "code",
   "execution_count": null,
   "metadata": {},
   "outputs": [],
   "source": []
  }
 ],
 "metadata": {
  "kernelspec": {
   "display_name": "Python 3",
   "language": "python",
   "name": "python3"
  },
  "language_info": {
   "codemirror_mode": {
    "name": "ipython",
    "version": 3
   },
   "file_extension": ".py",
   "mimetype": "text/x-python",
   "name": "python",
   "nbconvert_exporter": "python",
   "pygments_lexer": "ipython3",
   "version": "3.10.12"
  }
 },
 "nbformat": 4,
 "nbformat_minor": 2
}
