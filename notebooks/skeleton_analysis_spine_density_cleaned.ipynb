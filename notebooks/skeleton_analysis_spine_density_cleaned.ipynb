{
 "cells": [
  {
   "cell_type": "code",
   "execution_count": null,
   "metadata": {},
   "outputs": [],
   "source": [
    "import imagej\n",
    "import scyjava as sj\n",
    "\n",
    "ij = imagej.init('sc.fiji:fiji', mode='interactive', add_legacy=True)"
   ]
  },
  {
   "cell_type": "code",
   "execution_count": null,
   "metadata": {},
   "outputs": [],
   "source": [
    "print(f\"ImageJ version: {ij.getVersion()}\")"
   ]
  },
  {
   "cell_type": "code",
   "execution_count": null,
   "metadata": {},
   "outputs": [],
   "source": [
    "script = \"\"\"\n",
    "importClass(Packages.ij.IJ)\n",
    "importClass(Packages.ij.Prefs)\n",
    "\n",
    "#@ String file_path\n",
    "#@ String whiteimage_output\n",
    "#@ String skeleton_output\n",
    "#@ String branch_output\n",
    "#@ String summary_output\n",
    "\n",
    "imp = IJ.openImage(file_path);\n",
    "IJ.run(imp, \"Enhance Contrast\", \"saturated=0.35\")\n",
    "IJ.run(imp, \"Apply LUT\", \"\");\n",
    "IJ.run(imp, \"Unsharp Mask...\", \"radius=1 mask=0.60\");\n",
    "IJ.run(imp, \"Maximum...\", \"radius=0.5\");\n",
    "IJ.run(imp, \"Despeckle\", \"\");\n",
    "IJ.run(imp, \"Unsharp Mask...\", \"radius=1 mask=0.60\");\n",
    "IJ.run(imp, \"Despeckle\", \"\");\n",
    "IJ.setAutoThreshold(imp, \"Default dark no-reset\");\n",
    "IJ.setRawThreshold(imp, 100, 255);\n",
    "Prefs.blackBackground = true;\n",
    "IJ.run(imp, \"Convert to Mask\", \"\");\n",
    "IJ.run(imp, \"Close-\", \"\");\n",
    "IJ.run(imp, \"Despeckle\", \"\");\n",
    "IJ.run(imp, \"Remove Outliers...\", \"radius=4 threshold=50 which=Bright\");\n",
    "IJ.saveAs(imp, \"Tiff\", whiteimage_output);\n",
    "IJ.run(imp, \"Skeletonize\", \"\");\n",
    "IJ.saveAs(imp, \"Tiff\", skeleton_output);\n",
    "IJ.run(imp, \"Analyze Skeleton (2D/3D)\", \"prune=none calculate show\");\n",
    "IJ.saveAs(\"Results\", branch_output);\n",
    "IJ.run(imp, \"Close\", \"\");\n",
    "IJ.saveAs(\"Results\", summary_output);\n",
    "IJ.run(imp, \"Close\", \"\");\n",
    "\"\"\""
   ]
  },
  {
   "cell_type": "code",
   "execution_count": null,
   "metadata": {},
   "outputs": [],
   "source": [
    "import os\n",
    "import time\n",
    "from datetime import datetime\n",
    "import warnings\n",
    "\n",
    "# Settings the warnings to be ignored \n",
    "warnings.filterwarnings('ignore') \n",
    "\n",
    "#data_path = \"spine_analysis_2024/Spine density REPL1/\"\n",
    "#data_path = \"spine_analysis_2024/Spine density REPL2/\"\n",
    "data_path = \"spine_analysis_2024/Spine density REPL3/\"\n",
    "\n",
    "#output_base_path = \"spine_analysis_2024/spine_density_output1/\"\n",
    "#output_base_path = \"spine_analysis_2024/spine_density_output2/\"\n",
    "output_base_path = \"spine_analysis_2024/spine_density_output3/\"\n",
    "\n",
    "def analyse_skeleton(data_path, data, output):\n",
    "\n",
    "    # record pipeline execution time\n",
    "    start_time = time.time()\n",
    "\n",
    "    print(f\"Started processing {data}\")\n",
    "\n",
    "    # Reconstruct full file path\n",
    "    file_path = f\"{data_path}{data}\"\n",
    "\n",
    "    # Extract the image name before .tif\n",
    "    base_name = data.split(\".tif\")[0]\n",
    "    # Generate the desired output paths\n",
    "    whiteimage_output = f\"{output}{base_name}_white_image.tif\"\n",
    "    skeleton_output = f\"{output}{base_name}_skeleton.tif\"\n",
    "    branch_output = f\"{output}{base_name}_branch_information.csv\"\n",
    "    summary_output = f\"{output}{base_name}_summary.csv\"\n",
    "\n",
    "    args = {\n",
    "        'file_path':file_path,\n",
    "        'whiteimage_output':whiteimage_output,\n",
    "        'skeleton_output':skeleton_output,\n",
    "        'branch_output':branch_output,\n",
    "        'summary_output':summary_output\n",
    "    }\n",
    "\n",
    "    ij.py.run_script(\"javascript\", script, args)\n",
    "\n",
    "    ij.WindowManager.closeAllWindows()\n",
    "\n",
    "    # Display data processing pipeline metrics\n",
    "\n",
    "    end_time = time.time()\n",
    "    duration = end_time - start_time\n",
    "    print(f\"Finished processing {data} at: {datetime.now().strftime('%Y-%m-%d %H:%M:%S')}\")\n",
    "    print(f\"Execution time: {duration:.2f} seconds\")"
   ]
  },
  {
   "cell_type": "code",
   "execution_count": null,
   "metadata": {},
   "outputs": [],
   "source": [
    "for file in os.listdir(data_path):\n",
    "\n",
    "    analyse_skeleton(data_path, file, output_base_path)"
   ]
  },
  {
   "cell_type": "code",
   "execution_count": null,
   "metadata": {},
   "outputs": [],
   "source": [
    "modulenames = ['imagej','scyjava']\n",
    "for module in modulenames:\n",
    "    try:\n",
    "        version = eval(module).__version__\n",
    "        print(f\"{module}=={version}\")\n",
    "    except:\n",
    "        print(f\"{module}\")"
   ]
  }
 ],
 "metadata": {
  "kernelspec": {
   "display_name": "pyimagej",
   "language": "python",
   "name": "python3"
  },
  "language_info": {
   "codemirror_mode": {
    "name": "ipython",
    "version": 3
   },
   "file_extension": ".py",
   "mimetype": "text/x-python",
   "name": "python",
   "nbconvert_exporter": "python",
   "pygments_lexer": "ipython3",
   "version": "3.8.18"
  }
 },
 "nbformat": 4,
 "nbformat_minor": 2
}
