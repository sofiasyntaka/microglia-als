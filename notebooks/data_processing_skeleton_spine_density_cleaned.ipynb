{
 "cells": [
  {
   "cell_type": "code",
   "execution_count": null,
   "metadata": {},
   "outputs": [],
   "source": [
    "import pandas as pd\n",
    "import os\n",
    "import re"
   ]
  },
  {
   "cell_type": "code",
   "execution_count": null,
   "metadata": {},
   "outputs": [],
   "source": [
    "#output_path = \"spine_analysis_2024/spine_density_output1/\"\n",
    "#output_path = \"spine_analysis_2024/spine_density_output2/\"\n",
    "output_path = \"spine_analysis_2024/spine_density_output3/\"\n",
    "\n",
    "#base_file_names = [file.split(\".tif\")[0] for file in os.listdir(\"spine_analysis_2024/Spine density REPL1/\")]\n",
    "#base_file_names = [file.split(\".tif\")[0] for file in os.listdir(\"spine_analysis_2024/Spine density REPL2/\")]\n",
    "base_file_names = [file.split(\".tif\")[0] for file in os.listdir(\"spine_analysis_2024/Spine density REPL3/\")]\n",
    "\n",
    "base_file_names"
   ]
  },
  {
   "cell_type": "code",
   "execution_count": null,
   "metadata": {},
   "outputs": [],
   "source": [
    "# Initialize an empty DataFrame to store the final results\n",
    "final_df = pd.DataFrame(columns=[\"Total Branch Length\",\n",
    "                                 \"Endpoints\",\n",
    "                                 \"Axon Length\",\n",
    "                                 \"Spine Density per 10um\"])\n",
    "\n",
    "# Assume 'base_file_names' is a list of unique base names derived from your files\n",
    "for base_name in base_file_names:\n",
    "    # Read the corresponding files for each base_name\n",
    "    branch_info_df = pd.read_csv(f\"{output_path}{base_name}_branch_information.csv\")\n",
    "    summary_df = pd.read_csv(f\"{output_path}{base_name}_summary.csv\")\n",
    "\n",
    "    # Process each file as needed to extract the required information\n",
    "\n",
    "    # total branch length\n",
    "    # Count the occurrences of each Skeleton ID\n",
    "    skeleton_id_counts = branch_info_df['Skeleton ID'].value_counts()\n",
    "    # The Skeleton ID that occurs the most\n",
    "    most_frequent_skeleton_id = skeleton_id_counts.idxmax()\n",
    "\n",
    "    total_branch_length = branch_info_df[branch_info_df[\"Skeleton ID\"] == most_frequent_skeleton_id][\"Branch length\"].sum()\n",
    "\n",
    "    # Extract the largest number of branches and its corresponding endpoints from summary_df\n",
    "    largest_branch_row = summary_df.loc[summary_df[\"# Branches\"].idxmax()]\n",
    "    endpoints = largest_branch_row[\"# End-point voxels\"]\n",
    "    axon_len = largest_branch_row[\"Longest Shortest Path\"]\n",
    "    spine_density_per_10um = endpoints / (axon_len / 10)\n",
    "\n",
    "    # Append the extracted information to the DataFrame\n",
    "    final_df.loc[base_name] = [total_branch_length,\n",
    "                               endpoints,\n",
    "                               axon_len,\n",
    "                               spine_density_per_10um\n",
    "                               ]\n",
    "\n",
    "# final_df now contains all the aggregated data\n",
    "    \n",
    "# Define a function to classify Genotype based on index value\n",
    "def classify_genotype(index):\n",
    "    if re.search(r'isoG29', index):\n",
    "        return 'isoG29'\n",
    "    elif re.search(r'G29', index):\n",
    "        return 'G29'\n",
    "    elif re.search(r'isoB', index):\n",
    "        return 'isoB'\n",
    "    elif re.search(r'K2', index):\n",
    "        return 'K2'\n",
    "    elif re.search(r'C9', index):\n",
    "        return 'C9'\n",
    "    elif re.search(r'B', index):\n",
    "        return 'B'\n",
    "    elif re.search(r'NO', index):\n",
    "        return 'NO'\n",
    "    else:\n",
    "        return 'Unknown'\n",
    "\n",
    "# Apply the function to the index of the DataFrame to create a new \"Genotype\" column\n",
    "final_df['Genotype'] = final_df.index.map(classify_genotype)\n",
    "\n",
    "final_df"
   ]
  },
  {
   "cell_type": "code",
   "execution_count": null,
   "metadata": {},
   "outputs": [],
   "source": [
    "#final_df.to_csv(\"spine_density_results_REPL1.csv\")\n",
    "#final_df.to_csv(\"spine_density_results_REPL2.csv\")\n",
    "final_df.to_csv(\"spine_density_results_REPL3.csv\")"
   ]
  },
  {
   "cell_type": "code",
   "execution_count": null,
   "metadata": {},
   "outputs": [],
   "source": [
    "import seaborn as sns\n",
    "import matplotlib.pyplot as plt\n",
    "\n",
    "columns_to_plot = [\"Endpoints\",\n",
    "                   \"Axon Length\",\n",
    "                   \"Spine Density per 10um\"]\n",
    "\n",
    "# Plotting\n",
    "plt.figure(figsize=(12, len(columns_to_plot) * 6))\n",
    "for i, column in enumerate(columns_to_plot, 1):\n",
    "    plt.subplot(len(columns_to_plot), 1, i)\n",
    "    sns.violinplot(x='Genotype', y=column, data=final_df)\n",
    "    plt.title(f'Violin plot of {column} by Genotype')\n",
    "\n",
    "plt.tight_layout()\n",
    "plt.show()"
   ]
  },
  {
   "cell_type": "code",
   "execution_count": null,
   "metadata": {},
   "outputs": [],
   "source": []
  }
 ],
 "metadata": {
  "kernelspec": {
   "display_name": "pyimagej",
   "language": "python",
   "name": "python3"
  },
  "language_info": {
   "codemirror_mode": {
    "name": "ipython",
    "version": 3
   },
   "file_extension": ".py",
   "mimetype": "text/x-python",
   "name": "python",
   "nbconvert_exporter": "python",
   "pygments_lexer": "ipython3",
   "version": "3.8.18"
  }
 },
 "nbformat": 4,
 "nbformat_minor": 2
}
